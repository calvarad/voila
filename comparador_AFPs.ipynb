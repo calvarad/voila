{
 "cells": [
  {
   "cell_type": "code",
   "execution_count": 1,
   "metadata": {},
   "outputs": [],
   "source": [
    "import datetime\n",
    "import ipywidgets as widgets\n",
    "import pandas as pd\n",
    "import pickle\n",
    "\n",
    "import matplotlib.pyplot as plt\n",
    "import matplotlib\n",
    "import seaborn as sns\n",
    "matplotlib.style.use(\"fivethirtyeight\")\n",
    "\n",
    "import sqlite3\n",
    "import warnings\n",
    "warnings.filterwarnings('ignore')\n",
    "\n",
    "from ipywidgets import interactive, interact, interactive_output, fixed, interact_manual\n",
    "\n",
    "import sys\n",
    "sys.path.append(\"../\")\n",
    "from src import compare_afp_with_ff_distributions\n",
    "\n",
    "%matplotlib inline\n",
    "\n",
    "AFPS = ['HABITAT', 'CUPRUM', 'CAPITAL', 'PLANVITAL', 'PROVIDA', 'MODELO']\n",
    "\n",
    "#Cargar base de días hábiles\n",
    "dbpath = r'processed_data/db_habiles.db'\n",
    "conn_habiles = sqlite3.connect(dbpath)\n",
    "df_dias_habiles = pd.read_sql('SELECT * FROM HABILES',\n",
    "                         conn_habiles, parse_dates=['Fecha'])\n",
    "\n",
    "with open('processed_data/df_new_heroku.pkl', 'rb') as handle:\n",
    "    data_out = pickle.load(handle)\n",
    "    \n",
    "#data_out = pd.read_pickle('processed_data/df_new_heroku.pkl')\n",
    "\n",
    "\n",
    "\n",
    "def cuadro_rentabilidades(df_valores_cuota, df_dias_habiles):\n",
    "    \n",
    "    cols = [c for c in df_valores_cuota.columns if 'V_' in c]\n",
    "    \n",
    "    df_aux = fix_fechas(df_valores_cuota, df_dias_habiles)\n",
    "\n",
    "    aux_data = []\n",
    "    for serie in cols:\n",
    "            \n",
    "        fecha0 = max(df_aux.index.unique()).date()\n",
    "        fecha_min = min(df_aux.dropna().index.unique()).date()\n",
    "        days_all = (fecha0 - fecha_min).days\n",
    "        year0 = fecha0.year\n",
    "        month0 = fecha0.month\n",
    "        fechamtd = datetime.datetime(year0, month0, 1).date()\n",
    "        fechaytd = datetime.datetime(year0, 1, 1).date()\n",
    "        fecha1y = fecha0 - datetime.timedelta(days=365*1)\n",
    "        fecha2y = fecha0 - datetime.timedelta(days=365*2)\n",
    "        fecha3y = fecha0 - datetime.timedelta(days=365*3)\n",
    "        fecha5y = fecha0 - datetime.timedelta(days=365*5)\n",
    "        fecha8y = fecha0 - datetime.timedelta(days=365*8)\n",
    "\n",
    "        rentmtd = df_aux.loc[fecha0][serie] / df_aux.loc[fechamtd][serie] - 1\n",
    "        rentytd = df_aux.loc[fecha0][serie] / df_aux.loc[fechaytd][serie] - 1\n",
    "        rent1y = df_aux.loc[fecha0][serie] / df_aux.loc[fecha1y][serie] - 1\n",
    "        rent2y = (df_aux.loc[fecha0][serie] / df_aux.loc[fecha2y][serie]) ** (1/2) - 1\n",
    "        rent3y = (df_aux.loc[fecha0][serie] / df_aux.loc[fecha3y][serie]) ** (1/3) - 1\n",
    "        rent5y = (df_aux.loc[fecha0][serie] / df_aux.loc[fecha5y][serie]) ** (1/5) - 1\n",
    "        rent8y = (df_aux.loc[fecha0][serie] / df_aux.loc[fecha8y][serie]) ** (1/8) - 1\n",
    "        rent_all = (df_aux.loc[fecha0][serie] / df_aux.loc[fecha_min][serie]) ** (1/(days_all/365)) - 1\n",
    "        \n",
    "        aux_data.append((serie, rentmtd, rentytd, rent1y, rent2y, rent3y, rent5y, rent8y, rent_all))\n",
    "\n",
    "    df = pd.DataFrame.from_records(aux_data, columns=[\n",
    "            'Serie', 'Rent MTD', 'Rent YTD', 'Rent 1y', 'Rent 2y', 'Rent 3y', 'Rent 5y', 'Rent 8y', 'Rent All'])\n",
    "\n",
    "    return df\n",
    "\n",
    "def fix_fechas(df_valores_cuota, df_dias_habiles):\n",
    "    \n",
    "    max_fecha = max(df_valores_cuota['Fecha']).date()\n",
    "    df_aux = df_valores_cuota.merge(df_dias_habiles[df_dias_habiles['Fecha'].dt.date <= max_fecha], how='outer', on='Fecha')\n",
    "    df_aux.sort_values('Fecha', inplace=True)\n",
    "    df_aux.set_index('Fecha', inplace=True)\n",
    "    df_aux.fillna(method='ffill', inplace=True)\n",
    "    #df_aux.dropna(inplace=True)\n",
    "    \n",
    "    return df_aux\n",
    "\n",
    "def plot_m(**data):\n",
    "    \n",
    "    sel_data = ['Fecha']\n",
    "    year = data['year']\n",
    "    \n",
    "    for serie in [1, 2, 3, 4, 5]:\n",
    "\n",
    "        if data[f'c_{serie}']:\n",
    "            afp = data[f'afp_{serie}']\n",
    "            fondo = data[f'est_{serie}']\n",
    "            lag = data[f'lag_{serie}']\n",
    "            str_serie = 'V_{}_{}_lag_{}'.format(afp, fondo, lag)\n",
    "            sel_data.append(str_serie)\n",
    "            \n",
    "        \n",
    "    plt.figure(2)\n",
    "    monto_inicial = 100\n",
    "\n",
    "    df_sel = data_out[year][sel_data]\n",
    "\n",
    "    df_sel.set_index('Fecha').plot()\n",
    "\n",
    "    plt.title('Comparador')\n",
    "    \n",
    "    plt.show()\n",
    "    \n",
    "    df_rent = cuadro_rentabilidades(df_sel.reset_index(), df_dias_habiles)\n",
    "\n",
    "    cm = sns.diverging_palette(10, 150, sep=60, n=30, as_cmap=True, l=65)\n",
    "\n",
    "    s = df_rent.style.background_gradient(cmap=cm, axis=0, \\\n",
    "            subset=[c for c in df_rent.columns if 'Rent' in c]).format({\n",
    "            'Rent MTD': \"{:.1%}\", \n",
    "            'Rent YTD': \"{:.1%}\", \n",
    "            'Rent 1y': \"{:.1%}\", \n",
    "            'Rent 2y': \"{:.1%}\", \n",
    "            'Rent 3y': \"{:.1%}\", \n",
    "            'Rent 5y': \"{:.1%}\", \n",
    "            'Rent 8y': \"{:.1%}\",\n",
    "            'Rent All': \"{:.1%}\"})\n",
    "    print('')\n",
    "    print('Tabla de Rentabilidades')\n",
    "    display(s)"
   ]
  },
  {
   "cell_type": "markdown",
   "metadata": {},
   "source": [
    "# Parte 1. Comparador de Fondos de Pensiones\n",
    "\n",
    "Esta aplicación permite comparar la evolución de los fondos de pensiones chilenos, ya sea siguiendo una **estrategia \"pasiva\"** (vale decir, quedándose en alguno de los fondos A al E), o bien una **estrategia \"activa\"** (por ejemplo, seguir las recomendaciones de empresas como *Felices y Forrados*)."
   ]
  },
  {
   "cell_type": "code",
   "execution_count": 2,
   "metadata": {},
   "outputs": [
    {
     "data": {
      "application/vnd.jupyter.widget-view+json": {
       "model_id": "48f2c321157847319d61d9498b70e6b4",
       "version_major": 2,
       "version_minor": 0
      },
      "text/plain": [
       "Accordion(children=(VBox(children=(HBox(children=(Checkbox(value=True, description='Serie 1', indent=False, la…"
      ]
     },
     "metadata": {},
     "output_type": "display_data"
    },
    {
     "data": {
      "application/vnd.jupyter.widget-view+json": {
       "model_id": "1e2f9f81035b4574bb06ded1f1e28562",
       "version_major": 2,
       "version_minor": 0
      },
      "text/plain": [
       "Output()"
      ]
     },
     "metadata": {},
     "output_type": "display_data"
    }
   ],
   "source": [
    "series = [1, 2, 3, 4, 5]\n",
    "dict_wid = {}\n",
    "hboxs = []\n",
    "for i, serie in enumerate(series):\n",
    "    if i == 0:\n",
    "        sel = True\n",
    "        fondo = 'A'\n",
    "        lag = 0\n",
    "    elif i == 1:\n",
    "        sel = True\n",
    "        fondo = 'FF'\n",
    "        lag = 0\n",
    "    elif i == 2:\n",
    "        sel = True\n",
    "        fondo = 'FF'\n",
    "        lag = 2\n",
    "    else:\n",
    "        sel = False\n",
    "        fondo = 'A'\n",
    "        lag = 0\n",
    "    check1 = widgets.Checkbox(\n",
    "        value=sel,\n",
    "        description='Serie {}'.format(serie),\n",
    "        disabled=False,\n",
    "        indent=False,\n",
    "        layout=widgets.Layout(width='100px'),\n",
    "    )\n",
    "    drop1 = widgets.Dropdown(\n",
    "        options=AFPS,\n",
    "        value='HABITAT',\n",
    "        description='AFP:',\n",
    "        disabled=False,\n",
    "    )\n",
    "    drop2 = widgets.Dropdown(\n",
    "        options=['A', 'B', 'C', 'D', 'E', 'FF', 'FF_INV', 'MAX'],\n",
    "        value=fondo,\n",
    "        description='Estrategia:',\n",
    "        disabled=False,\n",
    "    )\n",
    "    drop3 = widgets.Dropdown(\n",
    "        options=[0, 1, 2, 3, 4],\n",
    "        value=lag,\n",
    "        description='Lag Solicitud:',\n",
    "        disabled=False,\n",
    "    )\n",
    "    \n",
    "    dict_wid[f'c_{serie}'] = check1\n",
    "    dict_wid[f'afp_{serie}'] = drop1\n",
    "    dict_wid[f'est_{serie}'] = drop2\n",
    "    dict_wid[f'lag_{serie}'] = drop3\n",
    "\n",
    "    items1 = [check1, drop1, drop2, drop3] \n",
    "    hboxs.append(widgets.HBox(items1))\n",
    "\n",
    "year_wid = widgets.IntSlider(\n",
    "    value=2012,\n",
    "    min=2012,\n",
    "    max=2020,\n",
    "    step=1,\n",
    "    description='Año de Inicio:',\n",
    "    disabled=False,\n",
    "    continuous_update=False,\n",
    "    orientation='horizontal',\n",
    "    readout=True,\n",
    "    readout_format='d'\n",
    ")\n",
    "    \n",
    "dict_wid['year'] = year_wid\n",
    "hboxs.append(year_wid)\n",
    "\n",
    "out = interactive_output(plot_m, dict_wid)\n",
    "\n",
    "ui = widgets.VBox(hboxs)\n",
    "\n",
    "accordion = widgets.Accordion(children=[ui])\n",
    "accordion.set_title(0, 'Seleccione')\n",
    "\n",
    "display(accordion, out)"
   ]
  },
  {
   "cell_type": "markdown",
   "metadata": {},
   "source": [
    "## NOTAS\n",
    "\n",
    "1. Rentabilidades presentadas son anualizadas (salvo MTD y YTD).\n",
    "\n",
    "2. Para asegurar la comparabilidad en el tiempo, se asume que las personas hacen una única inversión en una fecha de inicio determinada y siguiendo una estrategia determinada. (*Un ejercicio más realista debería incorporar información de aportes (o retiros) mensuales y comisiones, pero quedará fuera del ámbito de este proyecto por el momento. En todo caso, las conclusiones principales no deberían ser afectadas por estos elementos.*).\n",
    "\n",
    "3. Parámetros relevantes:\n",
    "    - **Estrategia**: Se refiere a una estrategia pasiva (dejar dinero en fondo A al E), o una estrategia activa (*FF* sería seguir las recomendaciones de Felices y Forrados). Estrategia \"MAX\" es una estrategia que al inicio de cada mes elije el fondo que tendrá más rentabilidad ese mes.\n",
    "    - **Lag Solicitud**: Se refiere al rezago que existe entre el momento en que se realiza la sugerencia de cambio de fondo y el momento en que la persona solicita el cambio de fondo. Por ejemplo, un Lag=2 significa que la persona se demora 2 días en solicitar formalmente el cambio de fondo a su AFP.\n",
    "\n",
    "4. Para agregar más series al comparador, debe seleccionar la casilla **\"Serie\"** al costado izquierdo.\n",
    "\n",
    "5. Más antecedentes sobre los procesos detrás de la aplicación [AQUÍ](https://github.com/calvarad/fyf)."
   ]
  },
  {
   "cell_type": "markdown",
   "metadata": {},
   "source": [
    "# Parte 2. Comparador de rentabilidades"
   ]
  },
  {
   "cell_type": "code",
   "execution_count": 3,
   "metadata": {},
   "outputs": [
    {
     "data": {
      "application/vnd.jupyter.widget-view+json": {
       "model_id": "6b423ff7a34d46379d63d4ad7e34e533",
       "version_major": 2,
       "version_minor": 0
      },
      "text/plain": [
       "interactive(children=(IntSlider(value=3, description='años_de_horizonte', max=6, min=1), Dropdown(description=…"
      ]
     },
     "metadata": {},
     "output_type": "display_data"
    }
   ],
   "source": [
    "with open('processed_data/horizonte_de_tiempo_data_dict.pickle', 'rb') as handle:\n",
    "    afp_año_dict = pickle.load(handle)\n",
    "\n",
    "def fetch_data_and_plot(años_de_horizonte: int, afp: str, lag_fyf):\n",
    "    results = afp_año_dict[afp][años_de_horizonte]\n",
    "    return compare_afp_with_ff_distributions(results, años_de_horizonte, afp, \n",
    "                                  lag_solicitud_afp=0, lag_solicitud_ff=lag_fyf,\n",
    "                                      figsize=(14, 8))\n",
    "    \n",
    "lista_afps = ['CAPITAL', 'CUPRUM', 'HABITAT', 'PLANVITAL', 'PROVIDA', 'MODELO']\n",
    "\n",
    "posibles_años = widgets.IntSlider(min=1, max=6, step=1, value=3)\n",
    "posibles_afps = widgets.Dropdown(\n",
    "    options=lista_afps,\n",
    "    value='CAPITAL',\n",
    "    description='AFP:',\n",
    ")\n",
    "posibles_lags = widgets.IntSlider(min=0, max=4, step=1, value=2)\n",
    "\n",
    "interact(fetch_data_and_plot, años_de_horizonte=posibles_años,\n",
    "        afp=posibles_afps, lag_fyf=posibles_lags);"
   ]
  },
  {
   "cell_type": "markdown",
   "metadata": {},
   "source": [
    "# Parte 3. Impacto de los cambios de fondos masivos\n",
    "\n",
    "Para analizar el impacto de los cambios de fondos masivos, se estudia el cambio en el valor cuota y en el patrimonio administrado por cada fondo de pensiones alrededor de las recomendaciones de cambio de fondo. En el presente ejercicio, se analiza el cambio entre 1 día hábil antes de que se realice la recomendación de cambio, y 5 días hábiles después, considerando que algunas personas no logran cambiarse de fondo"
   ]
  },
  {
   "cell_type": "code",
   "execution_count": 20,
   "metadata": {},
   "outputs": [],
   "source": [
    "def myplot(afp, fondo, year_ini):\n",
    "\n",
    "    fig, axes = plt.subplots(2, 2, figsize=(14,10))\n",
    "\n",
    "    df_sel = df_out[(df_out['afp'] == afp) & \\\n",
    "                    (df_out['fondo'] == fondo) & \\\n",
    "                    (df_out['fecha'].astype(str).str[0:4].astype(int) >= year_ini)].copy()\n",
    "\n",
    "    #winsoreo las variables al 5%\n",
    "    n_elim = int(len(df_sel)*0.025)\n",
    "\n",
    "    df_out_sel = df_sel.sort_values('Rent fondo').reset_index()\n",
    "    df_out_sel = df_out_sel.iloc[n_elim: len(df_sel)-n_elim]\n",
    "    sns.regplot(x='Delta Sugerencia fondo A',y='Rent fondo',data=df_out_sel,fit_reg=True, ax=axes[0,0])\n",
    "    \n",
    "    df_out_sel = df_sel.sort_values('Delta Abs. Patrimonio').reset_index()\n",
    "    df_out_sel = df_out_sel.iloc[n_elim: len(df_sel)-n_elim]  \n",
    "    sns.regplot(x='Delta Sugerencia fondo A',y='Delta Abs. Patrimonio',data=df_out_sel,fit_reg=True, ax=axes[0,1])\n",
    "    \n",
    "    sns.regplot(x='Delta Sugerencia fondo A',y='Delta % Patrimonio',data=df_out_sel,fit_reg=True, ax=axes[1,0])\n",
    "    \n",
    "    df_sel.set_index('fecha')[['Delta Abs. Patrimonio']].plot(ax=axes[1,1])"
   ]
  },
  {
   "cell_type": "code",
   "execution_count": 22,
   "metadata": {},
   "outputs": [
    {
     "data": {
      "application/vnd.jupyter.widget-view+json": {
       "model_id": "76c8ba88aec54cef8c334605396a2791",
       "version_major": 2,
       "version_minor": 0
      },
      "text/plain": [
       "Accordion(children=(VBox(children=(HBox(children=(Dropdown(description='AFP:', options=('all', 'HABITAT', 'CUP…"
      ]
     },
     "metadata": {},
     "output_type": "display_data"
    },
    {
     "data": {
      "application/vnd.jupyter.widget-view+json": {
       "model_id": "89dd2e61e3524babbcd5489b7cd02156",
       "version_major": 2,
       "version_minor": 0
      },
      "text/plain": [
       "Output()"
      ]
     },
     "metadata": {},
     "output_type": "display_data"
    }
   ],
   "source": [
    "df_out = pd.read_pickle('processed_data/data_event_study.pickle')\n",
    "\n",
    "dict_wid_part3 = {}\n",
    "hboxs_part3 = []\n",
    "\n",
    "drop1 = widgets.Dropdown(\n",
    "    options=['all'] + AFPS,\n",
    "    value='all',\n",
    "    description='AFP:',\n",
    "    disabled=False,\n",
    ")\n",
    "drop2 = widgets.Dropdown(\n",
    "    options=['A', 'B', 'C', 'D', 'E'],\n",
    "    value=fondo,\n",
    "    description='Fondo:',\n",
    "    disabled=False,\n",
    ")\n",
    "year_wid = widgets.IntSlider(\n",
    "    value=2012,\n",
    "    min=2012,\n",
    "    max=2020,\n",
    "    step=1,\n",
    "    description='Año de Inicio:',\n",
    "    disabled=False,\n",
    "    continuous_update=False,\n",
    "    orientation='horizontal',\n",
    "    readout=True,\n",
    "    readout_format='d'\n",
    ")\n",
    "\n",
    "dict_wid_part3['afp'] = drop1\n",
    "dict_wid_part3['fondo'] = drop2\n",
    "dict_wid_part3['year_ini'] = year_wid\n",
    "\n",
    "items_part3 = [drop1, drop2] \n",
    "\n",
    "hboxs_part3.append(widgets.HBox(items_part3))\n",
    "hboxs_part3.append(year_wid)\n",
    "\n",
    "out_part3 = interactive_output(myplot, dict_wid_part3)\n",
    "\n",
    "ui_part3 = widgets.VBox(hboxs_part3)\n",
    "\n",
    "accordion_part3 = widgets.Accordion(children=[ui_part3])\n",
    "accordion_part3.set_title(0, 'Seleccione')\n",
    "\n",
    "display(accordion_part3, out_part3)"
   ]
  },
  {
   "cell_type": "code",
   "execution_count": null,
   "metadata": {},
   "outputs": [],
   "source": []
  }
 ],
 "metadata": {
  "kernelspec": {
   "display_name": "Python 3",
   "language": "python",
   "name": "python3"
  },
  "language_info": {
   "codemirror_mode": {
    "name": "ipython",
    "version": 3
   },
   "file_extension": ".py",
   "mimetype": "text/x-python",
   "name": "python",
   "nbconvert_exporter": "python",
   "pygments_lexer": "ipython3",
   "version": "3.8.3"
  }
 },
 "nbformat": 4,
 "nbformat_minor": 4
}
