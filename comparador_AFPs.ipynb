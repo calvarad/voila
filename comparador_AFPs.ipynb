{
 "cells": [
  {
   "cell_type": "code",
   "execution_count": 7,
   "metadata": {},
   "outputs": [],
   "source": [
    "import pandas as pd\n",
    "import pickle\n",
    "import matplotlib.pyplot as plt\n",
    "from ipywidgets import interactive, interact, interactive_output\n",
    "\n",
    "import ipywidgets as widgets\n",
    "\n",
    "%matplotlib inline\n",
    "\n",
    "AFPS = ['HABITAT', 'CUPRUM', 'CAPITAL', 'PLANVITAL', 'PROVIDA']\n",
    "\n",
    "\n",
    "with open('processed_data/df_new_heroku.pkl', 'rb') as handle:\n",
    "    data_out = pickle.load(handle)\n",
    "    \n",
    "#data_out = pd.read_pickle('processed_data/df_new_heroku.pkl')\n",
    "\n",
    "\n",
    "def plot_m(**data):\n",
    "    \n",
    "    sel_data = ['Fecha']\n",
    "    year = data['year']\n",
    "    \n",
    "    for serie in [1, 2, 3, 4, 5]:\n",
    "\n",
    "        if data[f'c_{serie}']:\n",
    "            afp = data[f'afp_{serie}']\n",
    "            fondo = data[f'est_{serie}']\n",
    "            lag = data[f'lag_{serie}']\n",
    "            str_serie = 'V_{}_{}_lag_{}'.format(afp, fondo, lag)\n",
    "            sel_data.append(str_serie)\n",
    "            \n",
    "        \n",
    "    plt.figure(2)\n",
    "    monto_inicial = 100\n",
    "\n",
    "    df_sel = data_out[year][sel_data]\n",
    "\n",
    "    df_sel.set_index('Fecha').plot()\n",
    "\n",
    "    plt.title('Comparador')\n",
    "    \n",
    "    plt.show()"
   ]
  },
  {
   "cell_type": "markdown",
   "metadata": {},
   "source": [
    "# Comparador de Fondos de Pensiones\n",
    "\n",
    "Esta aplicación permite comparar la evolución de los fondos de pensiones chilenos, ya sea siguiendo una **estrategia \"pasiva\"** (vale decir, quedándose en alguno de los fondos A al E), o bien una **estrategia \"activa\"** (por ejemplo, seguir las recomendaciones de empresas como *Felices y Forrados*)."
   ]
  },
  {
   "cell_type": "code",
   "execution_count": 8,
   "metadata": {},
   "outputs": [
    {
     "data": {
      "application/vnd.jupyter.widget-view+json": {
       "model_id": "637c353b776b4cac9a409ebcf12dff61",
       "version_major": 2,
       "version_minor": 0
      },
      "text/plain": [
       "Accordion(children=(VBox(children=(HBox(children=(Checkbox(value=True, description='Serie 1', indent=False, la…"
      ]
     },
     "metadata": {},
     "output_type": "display_data"
    },
    {
     "data": {
      "application/vnd.jupyter.widget-view+json": {
       "model_id": "0bd5c7e3753f47c69d2e037bb3038530",
       "version_major": 2,
       "version_minor": 0
      },
      "text/plain": [
       "Output()"
      ]
     },
     "metadata": {},
     "output_type": "display_data"
    }
   ],
   "source": [
    "series = [1, 2, 3, 4, 5]\n",
    "dict_wid = {}\n",
    "hboxs = []\n",
    "for i, serie in enumerate(series):\n",
    "    if i == 0:\n",
    "        sel = True\n",
    "        fondo = 'A'\n",
    "    elif i == 1:\n",
    "        sel = True\n",
    "        fondo = 'FF'\n",
    "    else:\n",
    "        sel = False\n",
    "        fondo = 'A'\n",
    "    check1 = widgets.Checkbox(\n",
    "        value=sel,\n",
    "        description='Serie {}'.format(serie),\n",
    "        disabled=False,\n",
    "        indent=False,\n",
    "        layout=widgets.Layout(width='100px'),\n",
    "    )\n",
    "    drop1 = widgets.Dropdown(\n",
    "        options=AFPS,\n",
    "        value='HABITAT',\n",
    "        description='AFP:',\n",
    "        disabled=False,\n",
    "    )\n",
    "    drop2 = widgets.Dropdown(\n",
    "        options=['A', 'B', 'C', 'D', 'E', 'FF', 'MAX'],\n",
    "        value=fondo,\n",
    "        description='Estrategia:',\n",
    "        disabled=False,\n",
    "    )\n",
    "    drop3 = widgets.Dropdown(\n",
    "        options=[0, 1, 2],\n",
    "        value=0,\n",
    "        description='Lag Solicitud:',\n",
    "        disabled=False,\n",
    "    )\n",
    "    \n",
    "    dict_wid[f'c_{serie}'] = check1\n",
    "    dict_wid[f'afp_{serie}'] = drop1\n",
    "    dict_wid[f'est_{serie}'] = drop2\n",
    "    dict_wid[f'lag_{serie}'] = drop3\n",
    "\n",
    "    items1 = [check1, drop1, drop2, drop3] \n",
    "    hboxs.append(widgets.HBox(items1))\n",
    "\n",
    "year_wid = widgets.IntSlider(\n",
    "    value=2014,\n",
    "    min=2011,\n",
    "    max=2020,\n",
    "    step=1,\n",
    "    description='Año de Inicio:',\n",
    "    disabled=False,\n",
    "    continuous_update=False,\n",
    "    orientation='horizontal',\n",
    "    readout=True,\n",
    "    readout_format='d'\n",
    ")\n",
    "    \n",
    "dict_wid['year'] = year_wid\n",
    "hboxs.append(year_wid)\n",
    "\n",
    "out = interactive_output(plot_m, dict_wid)\n",
    "\n",
    "ui = widgets.VBox(hboxs)\n",
    "\n",
    "accordion = widgets.Accordion(children=[ui])\n",
    "accordion.set_title(0, 'Seleccione')\n",
    "\n",
    "display(accordion, out)"
   ]
  },
  {
   "cell_type": "markdown",
   "metadata": {},
   "source": [
    "## NOTAS\n",
    "\n",
    "Para asegurar la comparabilidad en el tiempo, se asume que las personas hacen una única inversión en una fecha de inicio determinada y siguiendo una estrategia determinada. (*Un ejercicio más realista debería incorporar información de aportes (o retiros) mensuales y comisiones, pero quedará fuera del ámbito de este proyecto por el momento. En todo caso, las conclusiones principales no deberían ser afectadas por estos elementos.*).\n",
    "\n",
    "\n",
    "Más antecedentes de la aplicación [AQUÍ](https://github.com/calvarad/ff).\n",
    "\n",
    "Parámetros relevantes:\n",
    "- **Estrategia**: Se refiere a una estrategia pasiva (dejar dinero en fondo A al E), o una estrategia activa (*FF* sería seguir las recomendaciones de Felices y Forrados). Estrategia \"MAX\" es una estrategia que al inicio de cada mes elije el fondo que tendrá más rentabilidad ese mes.\n",
    "- **Lag Solicitud**: Se refiere al rezago que existe entre el momento en que se realiza la sugerencia de cambio de fondo y el momento en que la persona solicita el cambio de fondo. Por ejemplo, un Lag=2 significa que la persona se demora 2 días en solicitar formalmente el cambio de fondo a su AFP.\n",
    "\n",
    "Para agregar más series al comparador, debe seleccionar la casilla **\"Serie\"** al costado izquierdo."
   ]
  },
  {
   "cell_type": "code",
   "execution_count": null,
   "metadata": {},
   "outputs": [],
   "source": []
  }
 ],
 "metadata": {
  "kernelspec": {
   "display_name": "Python 3",
   "language": "python",
   "name": "python3"
  },
  "language_info": {
   "codemirror_mode": {
    "name": "ipython",
    "version": 3
   },
   "file_extension": ".py",
   "mimetype": "text/x-python",
   "name": "python",
   "nbconvert_exporter": "python",
   "pygments_lexer": "ipython3",
   "version": "3.6.10"
  }
 },
 "nbformat": 4,
 "nbformat_minor": 4
}
