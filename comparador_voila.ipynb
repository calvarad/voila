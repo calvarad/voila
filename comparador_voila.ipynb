{
 "cells": [
  {
   "cell_type": "code",
   "execution_count": 1,
   "metadata": {},
   "outputs": [],
   "source": [
    "import pandas as pd\n",
    "import matplotlib.pyplot as plt\n",
    "from ipywidgets import interactive, interact, interactive_output\n",
    "\n",
    "import ipywidgets as widgets\n",
    "\n",
    "%matplotlib inline\n",
    "\n",
    "AFPS = ['HABITAT', 'CUPRUM', 'CAPITAL', 'PLANVITAL', 'PROVIDA']\n",
    "\n",
    "\n",
    "df_new = pd.read_pickle('processed_data/df_new_heroku.pkl')\n",
    "\n",
    "\n",
    "def plot_m(**data):\n",
    "    \n",
    "    sel_data = ['Fecha']\n",
    "    for serie in [1, 2, 3, 4, 5]:\n",
    "\n",
    "        if data[f'c_{serie}']:\n",
    "            afp = data[f'afp_{serie}']\n",
    "            fondo = data[f'est_{serie}']\n",
    "            lag = data[f'lag_{serie}']\n",
    "            str_serie = 'V_{}_{}_lag_{}'.format(afp, fondo, lag)\n",
    "            sel_data.append(str_serie)\n",
    "            \n",
    "        \n",
    "    plt.figure(2)\n",
    "    monto_inicial = 100\n",
    "\n",
    "    df_sel = df_new[sel_data]\n",
    "\n",
    "    df_sel.set_index('Fecha').plot()\n",
    "\n",
    "    plt.title('Comparador')\n",
    "    \n",
    "    plt.show()"
   ]
  },
  {
   "cell_type": "code",
   "execution_count": 2,
   "metadata": {},
   "outputs": [
    {
     "data": {
      "application/vnd.jupyter.widget-view+json": {
       "model_id": "db16ce791ffd4068bf6dc49790eacd45",
       "version_major": 2,
       "version_minor": 0
      },
      "text/plain": [
       "Accordion(children=(VBox(children=(HBox(children=(Checkbox(value=True, description='Serie 1', indent=False, la…"
      ]
     },
     "metadata": {},
     "output_type": "display_data"
    },
    {
     "data": {
      "application/vnd.jupyter.widget-view+json": {
       "model_id": "261f203a1b1f47a3b75b7f96af7d032d",
       "version_major": 2,
       "version_minor": 0
      },
      "text/plain": [
       "Output()"
      ]
     },
     "metadata": {},
     "output_type": "display_data"
    }
   ],
   "source": [
    "series = [1, 2, 3, 4, 5]\n",
    "dict_wid = {}\n",
    "hboxs = []\n",
    "for i, serie in enumerate(series):\n",
    "    if i == 0:\n",
    "        sel = True\n",
    "        fondo = 'A'\n",
    "    elif i == 1:\n",
    "        sel = True\n",
    "        fondo = 'FF'\n",
    "    else:\n",
    "        sel = False\n",
    "        fondo = 'A'\n",
    "    check1 = widgets.Checkbox(\n",
    "        value=sel,\n",
    "        description='Serie {}'.format(serie),\n",
    "        disabled=False,\n",
    "        indent=False,\n",
    "        layout=widgets.Layout(width='100px'),\n",
    "    )\n",
    "    drop1 = widgets.Dropdown(\n",
    "        options=AFPS,\n",
    "        value='HABITAT',\n",
    "        description='AFP:',\n",
    "        disabled=False,\n",
    "    )\n",
    "    drop2 = widgets.Dropdown(\n",
    "        options=['A', 'B', 'C', 'D', 'E', 'FF', 'MAX'],\n",
    "        value=fondo,\n",
    "        description='Estrategia:',\n",
    "        disabled=False,\n",
    "    )\n",
    "    drop3 = widgets.Dropdown(\n",
    "        options=[0, 1, 2],\n",
    "        value=0,\n",
    "        description='Lag Solicitud:',\n",
    "        disabled=False,\n",
    "    )\n",
    "    \n",
    "    dict_wid[f'c_{serie}'] = check1\n",
    "    dict_wid[f'afp_{serie}'] = drop1\n",
    "    dict_wid[f'est_{serie}'] = drop2\n",
    "    dict_wid[f'lag_{serie}'] = drop3\n",
    "\n",
    "    items1 = [check1, drop1, drop2, drop3] \n",
    "    hboxs.append(widgets.HBox(items1))\n",
    "\n",
    "out = interactive_output(plot_m, dict_wid)\n",
    "\n",
    "ui = widgets.VBox(hboxs)\n",
    "\n",
    "accordion = widgets.Accordion(children=[ui])\n",
    "accordion.set_title(0, 'Seleccione')\n",
    "\n",
    "display(accordion, out)"
   ]
  },
  {
   "cell_type": "code",
   "execution_count": null,
   "metadata": {},
   "outputs": [],
   "source": []
  }
 ],
 "metadata": {
  "kernelspec": {
   "display_name": "Python 3",
   "language": "python",
   "name": "python3"
  },
  "language_info": {
   "codemirror_mode": {
    "name": "ipython",
    "version": 3
   },
   "file_extension": ".py",
   "mimetype": "text/x-python",
   "name": "python",
   "nbconvert_exporter": "python",
   "pygments_lexer": "ipython3",
   "version": "3.6.10"
  }
 },
 "nbformat": 4,
 "nbformat_minor": 4
}
